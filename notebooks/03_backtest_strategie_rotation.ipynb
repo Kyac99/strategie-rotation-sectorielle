{
 "cells": [
  {
   "cell_type": "markdown",
   "metadata": {},
   "source": [
    "# Backtesting de la Stratégie de Rotation Sectorielle\n",
    "\n",
    "Ce notebook effectue un backtesting complet de notre stratégie de rotation sectorielle basée sur les cycles économiques et le momentum. Nous allons tester différentes configurations de la stratégie pour optimiser ses performances."
   ]
  },
  {
   "cell_type": "markdown",
   "metadata": {},
   "source": [
    "## Importation des bibliothèques"
   ]
  },
  {
   "cell_type": "code",
   "execution_count": null,
   "metadata": {},
   "outputs": [],
   "source": [
    "import os\n",
    "import sys\n",
    "import numpy as np\n",
    "import pandas as pd\n",
    "import matplotlib.pyplot as plt\n",
    "import seaborn as sns\n",
    "from datetime import datetime, timedelta\n",
    "import warnings\n",
    "import yaml\n",
    "import joblib\n",
    "from IPython.display import display, HTML\n",
    "\n",
    "# Suppression des avertissements pour une meilleure lisibilité\n",
    "warnings.filterwarnings('ignore')\n",
    "\n",
    "# Configuration des visualisations\n",
    "%matplotlib inline\n",
    "plt.style.use('seaborn-v0_8-whitegrid')\n",
    "plt.rcParams['figure.figsize'] = (12, 8)\n",
    "plt.rcParams['font.size'] = 12"
   ]
  },
  {
   "cell_type": "markdown",
   "metadata": {},
   "source": [
    "## Ajout du chemin du projet au PYTHONPATH"
   ]
  },
  {
   "cell_type": "code",
   "execution_count": null,
   "metadata": {},
   "outputs": [],
   "source": [
    "# Ajout du répertoire racine du projet au path\n",
    "project_root = os.path.abspath(os.path.join(os.getcwd(), '..'))\n",
    "sys.path.append(project_root)\n",
    "print(f\"Répertoire racine du projet: {project_root}\")"
   ]
  },
  {
   "cell_type": "markdown",
   "metadata": {},
   "source": [
    "## Importation des modules personnalisés"
   ]
  },
  {
   "cell_type": "code",
   "execution_count": null,
   "metadata": {},
   "outputs": [],
   "source": [
    "from src.data.macro_data_collector import MacroDataCollector\n",
    "from src.data.sector_data_collector import SectorDataCollector\n",
    "from src.models.economic_cycle_classifier import EconomicCycleClassifier\n",
    "from src.models.sector_selector import SectorSelector\n",
    "from src.backtest.backtest_engine import BacktestEngine\n",
    "from src.visualization.performance_visualizer import PerformanceVisualizer\n",
    "from src.utils.common_utils import (\n",
    "    load_config, \n",
    "    ensure_dir, \n",
    "    calculate_performance_metrics,\n",
    "    create_correlation_matrix\n",
    ")"
   ]
  },
  {
   "cell_type": "markdown",
   "metadata": {},
   "source": [
    "## Chargement de la configuration"
   ]
  },
  {
   "cell_type": "code",
   "execution_count": null,
   "metadata": {},
   "outputs": [],
   "source": [
    "# Chargement de la configuration\n",
    "config = load_config(os.path.join(project_root, 'config', 'config.yaml'))\n",
    "\n",
    "# Affichage des sections principales\n",
    "print(\"Sections de configuration disponibles:\")\n",
    "for section in config.keys():\n",
    "    print(f\"  - {section}\")"
   ]
  },
  {
   "cell_type": "markdown",
   "metadata": {},
   "source": [
    "## Chargement des données"
   ]
  },
  {
   "cell_type": "code",
   "execution_count": null,
   "metadata": {},
   "outputs": [],
   "source": [
    "# Chemins des données prétraitées\n",
    "data_dir = os.path.join(project_root, config['paths']['data_processed'])\n",
    "ensure_dir(data_dir)\n",
    "\n",
    "macro_data_path = os.path.join(data_dir, \"macro_data.csv\")\n",
    "sector_data_path = os.path.join(data_dir, \"sector_data.csv\")\n",
    "phases_path = os.path.join(data_dir, \"economic_phases.csv\")\n",
    "\n",
    "# Chargement des données macroéconomiques\n",
    "if os.path.exists(macro_data_path):\n",
    "    macro_data = pd.read_csv(macro_data_path, index_col=0, parse_dates=True)\n",
    "    print(f\"Données macroéconomiques chargées: {len(macro_data)} observations\")\n",
    "else:\n",
    "    print(f\"Fichier {macro_data_path} non trouvé. Collecte des données...\")\n",
    "    collector = MacroDataCollector()\n",
    "    raw_data = collector.get_all_series(start_date=\"2000-01-01\", frequency='m')\n",
    "    macro_data = collector.preprocess_data(raw_data)\n",
    "    macro_data.to_csv(macro_data_path)\n",
    "    print(f\"Données macroéconomiques collectées et sauvegardées: {len(macro_data)} observations\")\n",
    "\n",
    "# Chargement des données sectorielles\n",
    "if os.path.exists(sector_data_path):\n",
    "    sector_data = pd.read_csv(sector_data_path, index_col=0, parse_dates=True)\n",
    "    print(f\"Données sectorielles chargées: {len(sector_data)} observations\")\n",
    "else:\n",
    "    print(f\"Fichier {sector_data_path} non trouvé. Collecte des données...\")\n",
    "    collector = SectorDataCollector()\n",
    "    etf_data = collector.get_all_etf_data(start_date=\"2000-01-01\")\n",
    "    sector_data = collector.preprocess_data(etf_data)\n",
    "    sector_data.to_csv(sector_data_path)\n",
    "    print(f\"Données sectorielles collectées et sauvegardées: {len(sector_data)} observations\")\n",
    "\n",
    "# Chargement des phases économiques\n",
    "if os.path.exists(phases_path):\n",
    "    phases_df = pd.read_csv(phases_path)\n",
    "    phases_df['date'] = pd.to_datetime(phases_df['date'])\n",
    "    phases_df.set_index('date', inplace=True)\n",
    "    print(f\"Phases économiques chargées: {len(phases_df)} observations\")\n",
    "else:\n",
    "    print(f\"Fichier {phases_path} non trouvé. Les phases seront identifiées durant le backtesting.\")\n",
    "    phases_df = None"
   ]
  },
  {
   "cell_type": "markdown",
   "metadata": {},
   "source": [
    "## Chargement/Entraînement du modèle de classification des cycles économiques"
   ]
  },
  {
   "cell_type": "code",
   "execution_count": null,
   "metadata": {},
   "outputs": [],
   "source": [
    "# Chemin du modèle\n",
    "models_dir = os.path.join(project_root, config['paths']['models'])\n",
    "ensure_dir(models_dir)\n",
    "cycle_model_path = os.path.join(models_dir, \"economic_cycle_classifier.joblib\")\n",
    "\n",
    "# Chargement ou entraînement du modèle\n",
    "if os.path.exists(cycle_model_path):\n",
    "    cycle_model = EconomicCycleClassifier.load_model(cycle_model_path)\n",
    "    print(f\"Modèle de classification des cycles économiques chargé depuis {cycle_model_path}\")\n",
    "else:\n",
    "    print(f\"Fichier {cycle_model_path} non trouvé. Entraînement du modèle...\")\n",
    "    cycle_model = EconomicCycleClassifier(supervised=config['models']['economic_cycle']['supervised'])\n",
    "    cycle_model.fit(macro_data)\n",
    "    cycle_model.save_model(cycle_model_path)\n",
    "    print(f\"Modèle de classification des cycles économiques entraîné et sauvegardé dans {cycle_model_path}\")\n",
    "\n",
    "# Prédiction des phases si non disponibles\n",
    "if phases_df is None:\n",
    "    phases = cycle_model.predict(macro_data)\n",
    "    phases_df = pd.DataFrame({'phase': phases}, index=phases.index)\n",
    "    phases_df.to_csv(phases_path)\n",
    "    print(f\"Phases économiques identifiées et sauvegardées dans {phases_path}\")"
   ]
  },
  {
   "cell_type": "markdown",
   "metadata": {},
   "source": [
    "## Visualisation de la distribution des phases du cycle économique"
   ]
  },
  {
   "cell_type": "code",
   "execution_count": null,
   "metadata": {},
   "outputs": [],
   "source": [
    "# Visualisation des phases du cycle économique\n",
    "fig = cycle_model.plot_cycle_distribution(macro_data)\n",
    "plt.title(\"Distribution des phases du cycle économique\")\n",
    "plt.show()\n",
    "\n",
    "# Fréquence des phases\n",
    "phase_counts = phases_df['phase'].value_counts()\n",
    "print(\"\\nFréquence des phases économiques:\")\n",
    "for phase, count in phase_counts.items():\n",
    "    percentage = count / len(phases_df) * 100\n",
    "    print(f\"  {phase}: {count} observations ({percentage:.1f}%)\")"
   ]
  },
  {
   "cell_type": "markdown",
   "metadata": {},
   "source": [
    "## Configuration du moteur de backtesting"
   ]
  },
  {
   "cell_type": "code",
   "execution_count": null,
   "metadata": {},
   "outputs": [],
   "source": [
    "# Création du moteur de backtesting\n",
    "backtest_engine = BacktestEngine(\n",
    "    sector_data=sector_data,\n",
    "    macro_data=macro_data,\n",
    "    benchmark=config['backtest']['benchmark'],\n",
    "    risk_free_rate=config['backtest']['risk_free_rate']\n",
    ")\n",
    "\n",
    "# Configuration du backtest\n",
    "start_date = config['backtest']['start_date']\n",
    "end_date = config['backtest']['end_date']\n",
    "initial_capital = config['backtest']['initial_capital']\n",
    "rebalance_frequency = config['backtest']['rebalance_frequency']\n",
    "transaction_cost = config['backtest']['transaction_cost']\n",
    "\n",
    "print(f\"Backtest configuré avec les paramètres suivants:\")\n",
    "print(f\"  - Période: {start_date} à {end_date}\")\n",
    "print(f\"  - Capital initial: {initial_capital}\")\n",
    "print(f\"  - Fréquence de rééquilibrage: {rebalance_frequency}\")\n",
    "print(f\"  - Coût de transaction: {transaction_cost*100:.2f}%\")\n",
    "print(f\"  - Benchmark: {config['backtest']['benchmark']}\")"
   ]
  },
  {
   "cell_type": "markdown",
   "metadata": {},
   "source": [
    "## Définition des stratégies à tester"
   ]
  },
  {
   "cell_type": "code",
   "execution_count": null,
   "metadata": {},
   "outputs": [],
   "source": [
    "# Importation des stratégies du module de backtesting\n",
    "from src.backtest.backtest_engine import simple_momentum_strategy, cycle_based_strategy\n",
    "\n",
    "# Définition d'une stratégie basée uniquement sur les cycles économiques\n",
    "def pure_cycle_strategy(sector_data, macro_data, current_date, cycle_classifier, top_n=3):\n",
    "    \"\"\"\n",
    "    Stratégie basée uniquement sur les cycles économiques (sans momentum).\n",
    "    \"\"\"\n",
    "    return cycle_based_strategy(\n",
    "        sector_data, macro_data, current_date, \n",
    "        cycle_classifier=cycle_classifier, \n",
    "        top_n=top_n, \n",
    "        momentum_weight=0.0  # Pas de prise en compte du momentum\n",
    "    )\n",
    "\n",
    "# Liste des stratégies à tester\n",
    "strategies = {\n",
    "    \"Momentum\": {\n",
    "        \"function\": simple_momentum_strategy,\n",
    "        \"params\": {\n",
    "            \"lookback_periods\": 6,\n",
    "            \"top_n\": 3\n",
    "        },\n",
    "        \"description\": \"Stratégie basée uniquement sur le momentum des 6 derniers mois\"\n",
    "    },\n",
    "    \"Cycle Économique\": {\n",
    "        \"function\": pure_cycle_strategy,\n",
    "        \"params\": {\n",
    "            \"cycle_classifier\": cycle_model,\n",
    "            \"top_n\": 3\n",
    "        },\n",
    "        \"description\": \"Stratégie basée uniquement sur les phases du cycle économique\"\n",
    "    },\n",
    "    \"Cycle + Momentum\": {\n",
    "        \"function\": cycle_based_strategy,\n",
    "        \"params\": {\n",
    "            \"cycle_classifier\": cycle_model,\n",
    "            \"top_n\": 3,\n",
    "            \"momentum_weight\": 0.5\n",
    "        },\n",
    "        \"description\": \"Stratégie combinant les phases du cycle économique (50%) et le momentum (50%)\"\n",
    "    }\n",
    "}\n",
    "\n",
    "print(f\"Stratégies à tester:\")\n",
    "for name, strategy in strategies.items():\n",
    "    print(f\"\\n{name}:\")\n",
    "    print(f\"  {strategy['description']}\")\n",
    "    print(f\"  Paramètres: {strategy['params']}\")"
   ]
  },
  {
   "cell_type": "markdown",
   "metadata": {},
   "source": [
    "## Exécution du backtest pour chaque stratégie"
   ]
  },
  {
   "cell_type": "code",
   "execution_count": null,
   "metadata": {},
   "outputs": [],
   "source": [
    "# Stockage des résultats\n",
    "backtest_results = {}\n",
    "backtest_allocations = {}\n",
    "backtest_metrics = {}\n",
    "\n",
    "# Exécution du backtest pour chaque stratégie\n",
    "for name, strategy in strategies.items():\n",
    "    print(f\"\\nBacktest de la stratégie '{name}'...\")\n",
    "    \n",
    "    # Exécution du backtest\n",
    "    results, allocations = backtest_engine.run_simple_strategy(\n",
    "        strategy_func=strategy[\"function\"],\n",
    "        strategy_params=strategy[\"params\"],\n",
    "        start_date=start_date,\n",
    "        end_date=end_date,\n",
    "        frequency=rebalance_frequency,\n",
    "        initial_capital=initial_capital,\n",
    "        transaction_cost=transaction_cost\n",
    "    )\n",
    "    \n",
    "    # Calcul des métriques de performance\n",
    "    metrics = backtest_engine.calculate_performance_metrics(results)\n",
    "    \n",
    "    # Stockage des résultats\n",
    "    backtest_results[name] = results\n",
    "    backtest_allocations[name] = allocations\n",
    "    backtest_metrics[name] = metrics\n",
    "    \n",
    "    # Affichage des métriques principales\n",
    "    print(f\"  Rendement annualisé: {metrics['annualized_return']:.2%}\")\n",
    "    print(f\"  Volatilité annualisée: {metrics['volatility']:.2%}\")\n",
    "    print(f\"  Ratio de Sharpe: {metrics['sharpe_ratio']:.2f}\")\n",
    "    print(f\"  Drawdown maximum: {metrics['max_drawdown']:.2%}\")\n",
    "    \n",
    "print(\"\\nBacktests terminés.\")"
   ]
  },
  {
   "cell_type": "markdown",
   "metadata": {},
   "source": [
    "## Comparaison des performances"
   ]
  },
  {
   "cell_type": "code",
   "execution_count": null,
   "metadata": {},
   "outputs": [],
   "source": [
    "# Création d'un DataFrame pour comparer les métriques\n",
    "comparison_metrics = [\n",
    "    'annual_return', 'volatility', 'sharpe_ratio', 'sortino_ratio',\n",
    "    'calmar_ratio', 'max_drawdown', 'win_rate', 'beta', 'alpha'\n",
    "]\n",
    "\n",
    "metrics_labels = {\n",
    "    'annual_return': 'Rendement annualisé',\n",
    "    'volatility': 'Volatilité annualisée',\n",
    "    'sharpe_ratio': 'Ratio de Sharpe',\n",
    "    'sortino_ratio': 'Ratio de Sortino',\n",
    "    'calmar_ratio': 'Ratio de Calmar',\n",
    "    'max_drawdown': 'Drawdown maximum',\n",
    "    'win_rate': 'Taux de succès',\n",
    "    'beta': 'Beta',\n",
    "    'alpha': 'Alpha'\n",
    "}\n",
    "\n",
    "comparison_df = pd.DataFrame(columns=strategies.keys())\n",
    "for metric in comparison_metrics:\n",
    "    row = []\n",
    "    for name in strategies.keys():\n",
    "        if metric in backtest_metrics[name]:\n",
    "            row.append(backtest_metrics[name][metric])\n",
    "        else:\n",
    "            row.append(None)\n",
    "    comparison_df.loc[metrics_labels.get(metric, metric)] = row\n",
    "\n",
    "# Formatage du DataFrame\n",
    "for i, metric in enumerate(comparison_df.index):\n",
    "    if metric in ['Rendement annualisé', 'Volatilité annualisée', 'Drawdown maximum', 'Taux de succès', 'Alpha']:\n",
    "        comparison_df.iloc[i] = comparison_df.iloc[i].map(lambda x: f\"{x:.2%}\" if x is not None else None)\n",
    "    else:\n",
    "        comparison_df.iloc[i] = comparison_df.iloc[i].map(lambda x: f\"{x:.2f}\" if x is not None else None)\n",
    "\n",
    "# Affichage de la comparaison\n",
    "print(\"Comparaison des performances des stratégies:\")\n",
    "display(comparison_df)"
   ]
  },
  {
   "cell_type": "markdown",
   "metadata": {},
   "source": [
    "## Visualisation des performances"
   ]
  },
  {
   "cell_type": "code",
   "execution_count": null,
   "metadata": {},
   "outputs": [],
   "source": [
    "# Visualisation des performances cumulées\n",
    "plt.figure(figsize=(14, 8))\n",
    "for name, results in backtest_results.items():\n",
    "    plt.plot(results.index, results['Portfolio_Value'], label=name)\n",
    "plt.plot(backtest_results[name].index, backtest_results[name]['Benchmark_Value'], label='Benchmark', linestyle='--')\n",
    "\n",
    "plt.title('Performance cumulée des stratégies', fontsize=14)\n",
    "plt.xlabel('Date')\n",
    "plt.ylabel('Valeur du portefeuille')\n",
    "plt.grid(True, alpha=0.3)\n",
    "plt.legend()\n",
    "plt.tight_layout()\n",
    "plt.show()"
   ]
  },
  {
   "cell_type": "code",
   "execution_count": null,
   "metadata": {},
   "outputs": [],
   "source": [
    "# Création d'un visualiseur de performances\n",
    "visualizer = PerformanceVisualizer(\n",
    "    style=config['visualization']['style'],\n",
    "    theme=config['visualization']['theme'],\n",
    "    interactive=config['visualization']['interactive']\n",
    ")\n",
    "\n",
    "# Pour la meilleure stratégie\n",
    "# Trouver la stratégie avec le meilleur ratio de Sharpe\n",
    "best_strategy = max(\n",
    "    strategies.keys(),\n",
    "    key=lambda s: float(comparison_df.loc['Ratio de Sharpe', s].replace(',', '.')) if comparison_df.loc['Ratio de Sharpe', s] else 0\n",
    ")\n",
    "\n",
    "print(f\"Meilleure stratégie: {best_strategy}\")\n",
    "\n",
    "# Visualisation des drawdowns\n",
    "fig_drawdowns = visualizer.plot_drawdowns(\n",
    "    backtest_results[best_strategy],\n",
    "    title=f\"Drawdowns - {best_strategy}\",\n",
    "    top_n_drawdowns=5\n",
    ")\n",
    "plt.show()\n",
    "\n",
    "# Visualisation des rendements annuels\n",
    "fig_annual = visualizer.plot_annual_returns(\n",
    "    backtest_results[best_strategy],\n",
    "    title=f\"Rendements annuels - {best_strategy}\"\n",
    ")\n",
    "plt.show()\n",
    "\n",
    "# Visualisation du ratio de Sharpe glissant\n",
    "fig_sharpe = visualizer.plot_rolling_sharpe(\n",
    "    backtest_results[best_strategy],\n",
    "    window=12,  # 12 mois\n",
    "    title=f\"Ratio de Sharpe glissant (12 mois) - {best_strategy}\"\n",
    ")\n",
    "plt.show()"
   ]
  },
  {
   "cell_type": "markdown",
   "metadata": {},
   "source": [
    "## Analyse des allocations sectorielles"
   ]
  },
  {
   "cell_type": "code",
   "execution_count": null,
   "metadata": {},
   "outputs": [],
   "source": [
    "# Visualisation des allocations sectorielles pour la meilleure stratégie\n",
    "fig_alloc = visualizer.plot_sector_allocations(\n",
    "    backtest_allocations[best_strategy],\n",
    "    title=f\"Allocations sectorielles - {best_strategy}\",\n",
    "    format='area',\n",
    "    smooth=True\n",
    ")\n",
    "plt.show()\n",
    "\n",
    "# Analyse du turnover des allocations\n",
    "turnovers = {}\n",
    "for name, allocations in backtest_allocations.items():\n",
    "    changes = []\n",
    "    for i in range(1, len(allocations)):\n",
    "        prev_alloc = allocations.iloc[i-1]\n",
    "        curr_alloc = allocations.iloc[i]\n",
    "        change = (prev_alloc - curr_alloc).abs().sum() / 2  # Divisé par 2 car chaque changement est compté deux fois\n",
    "        changes.append(change)\n",
    "    turnovers[name] = np.mean(changes) if changes else 0\n",
    "\n",
    "print(\"Turnover moyen des allocations par stratégie:\")\n",
    "for name, turnover in turnovers.items():\n",
    "    print(f\"  {name}: {turnover:.2%} par période\")"
   ]
  },
  {
   "cell_type": "markdown",
   "metadata": {},
   "source": [
    "## Analyse de l'impact des coûts de transaction"
   ]
  },
  {
   "cell_type": "code",
   "execution_count": null,
   "metadata": {},
   "outputs": [],
   "source": [
    "# Analyse de l'impact des coûts de transaction sur la meilleure stratégie\n",
    "transaction_costs = [0.0, 0.0005, 0.001, 0.002, 0.005]\n",
    "tc_results = {}\n",
    "\n",
    "for tc in transaction_costs:\n",
    "    # Exécution du backtest avec différents coûts de transaction\n",
    "    results, _ = backtest_engine.run_simple_strategy(\n",
    "        strategy_func=strategies[best_strategy][\"function\"],\n",
    "        strategy_params=strategies[best_strategy][\"params\"],\n",
    "        start_date=start_date,\n",
    "        end_date=end_date,\n",
    "        frequency=rebalance_frequency,\n",
    "        initial_capital=initial_capital,\n",
    "        transaction_cost=tc\n",
    "    )\n",
    "    \n",
    "    # Calcul des métriques de performance\n",
    "    metrics = backtest_engine.calculate_performance_metrics(results)\n",
    "    tc_results[f\"{tc*100:.1f}%\"] = metrics\n",
    "\n",
    "# Création d'un DataFrame pour comparer l'impact des coûts de transaction\n",
    "tc_comparison = pd.DataFrame(index=metrics_labels.values(), columns=tc_results.keys())\n",
    "for tc, metrics in tc_results.items():\n",
    "    for metric, label in metrics_labels.items():\n",
    "        if metric in metrics:\n",
    "            tc_comparison.loc[label, tc] = metrics[metric]\n",
    "\n",
    "# Formatage du DataFrame\n",
    "for i, metric in enumerate(tc_comparison.index):\n",
    "    if metric in ['Rendement annualisé', 'Volatilité annualisée', 'Drawdown maximum', 'Taux de succès', 'Alpha']:\n",
    "        tc_comparison.iloc[i] = tc_comparison.iloc[i].map(lambda x: f\"{x:.2%}\" if x is not None else None)\n",
    "    else:\n",
    "        tc_comparison.iloc[i] = tc_comparison.iloc[i].map(lambda x: f\"{x:.2f}\" if x is not None else None)\n",
    "\n",
    "# Affichage de la comparaison\n",
    "print(f\"Impact des coûts de transaction sur la stratégie '{best_strategy}':\")\n",
    "display(tc_comparison)"
   ]
  },
  {
   "cell_type": "markdown",
   "metadata": {},
   "source": [
    "## Analyse de l'impact de la fréquence de rééquilibrage"
   ]
  },
  {
   "cell_type": "code",
   "execution_count": null,
   "metadata": {},
   "outputs": [],
   "source": [
    "# Analyse de l'impact de la fréquence de rééquilibrage sur la meilleure stratégie\n",
    "rebalance_frequencies = [\"M\", \"Q\"]  # Mensuel, Trimestriel\n",
    "freq_labels = {\"M\": \"Mensuelle\", \"Q\": \"Trimestrielle\"}\n",
    "freq_results = {}\n",
    "\n",
    "for freq in rebalance_frequencies:\n",
    "    # Exécution du backtest avec différentes fréquences de rééquilibrage\n",
    "    results, _ = backtest_engine.run_simple_strategy(\n",
    "        strategy_func=strategies[best_strategy][\"function\"],\n",
    "        strategy_params=strategies[best_strategy][\"params\"],\n",
    "        start_date=start_date,\n",
    "        end_date=end_date,\n",
    "        frequency=freq,\n",
    "        initial_capital=initial_capital,\n",
    "        transaction_cost=transaction_cost\n",
    "    )\n",
    "    \n",
    "    # Calcul des métriques de performance\n",
    "    metrics = backtest_engine.calculate_performance_metrics(results)\n",
    "    freq_results[freq_labels[freq]] = metrics\n",
    "\n",
    "# Création d'un DataFrame pour comparer l'impact de la fréquence de rééquilibrage\n",
    "freq_comparison = pd.DataFrame(index=metrics_labels.values(), columns=freq_results.keys())\n",
    "for freq, metrics in freq_results.items():\n",
    "    for metric, label in metrics_labels.items():\n",
    "        if metric in metrics:\n",
    "            freq_comparison.loc[label, freq] = metrics[metric]\n",
    "\n",
    "# Formatage du DataFrame\n",
    "for i, metric in enumerate(freq_comparison.index):\n",
    "    if metric in ['Rendement annualisé', 'Volatilité annualisée', 'Drawdown maximum', 'Taux de succès', 'Alpha']:\n",
    "        freq_comparison.iloc[i] = freq_comparison.iloc[i].map(lambda x: f\"{x:.2%}\" if x is not None else None)\n",
    "    else:\n",
    "        freq_comparison.iloc[i] = freq_comparison.iloc[i].map(lambda x: f\"{x:.2f}\" if x is not None else None)\n",
    "\n",
    "# Affichage de la comparaison\n",
    "print(f\"Impact de la fréquence de rééquilibrage sur la stratégie '{best_strategy}':\")\n",
    "display(freq_comparison)"
   ]
  },
  {
   "cell_type": "markdown",
   "metadata": {},
   "source": [
    "## Optimisation des paramètres de la stratégie"
   ]
  },
  {
   "cell_type": "code",
   "execution_count": null,
   "metadata": {},
   "outputs": [],
   "source": [
    "# Optimisation des paramètres de la meilleure stratégie\n",
    "if best_strategy == \"Momentum\":\n",
    "    param_grid = {\n",
    "        'lookback_periods': [3, 6, 9, 12],\n",
    "        'top_n': [2, 3, 4, 5]\n",
    "    }\n",
    "elif best_strategy == \"Cycle Économique\":\n",
    "    param_grid = {\n",
    "        'cycle_classifier': [cycle_model],\n",
    "        'top_n': [2, 3, 4, 5]\n",
    "    }\n",
    "else:  # \"Cycle + Momentum\"\n",
    "    param_grid = {\n",
    "        'cycle_classifier': [cycle_model],\n",
    "        'top_n': [2, 3, 4, 5],\n",
    "        'momentum_weight': [0.3, 0.4, 0.5, 0.6, 0.7]\n",
    "    }\n",
    "\n",
    "print(f\"Optimisation des paramètres de la stratégie '{best_strategy}'...\")\n",
    "print(f\"Grille de paramètres: {param_grid}\")\n",
    "\n",
    "best_params, optimization_results = backtest_engine.run_strategy_optimization(\n",
    "    strategies[best_strategy][\"function\"],\n",
    "    param_grid,\n",
    "    start_date=start_date,\n",
    "    end_date=end_date,\n",
    "    frequency=rebalance_frequency,\n",
    "    initial_capital=initial_capital,\n",
    "    transaction_cost=transaction_cost,\n",
    "    metric='sharpe_ratio'\n",
    ")\n",
    "\n",
    "print(f\"\\nMeilleurs paramètres: {best_params}\")\n",
    "print(\"\\nTop 5 combinaisons de paramètres:\")\n",
    "display(optimization_results.head())"
   ]
  },
  {
   "cell_type": "markdown",
   "metadata": {},
   "source": [
    "## Backtest avec les paramètres optimisés"
   ]
  },
  {
   "cell_type": "code",
   "execution_count": null,
   "metadata": {},
   "outputs": [],
   "source": [
    "# Backtest avec les paramètres optimisés\n",
    "print(f\"Backtest de la stratégie '{best_strategy}' avec les paramètres optimisés...\")\n",
    "\n",
    "# Exécution du backtest\n",
    "optimized_results, optimized_allocations = backtest_engine.run_simple_strategy(\n",
    "    strategy_func=strategies[best_strategy][\"function\"],\n",
    "    strategy_params=best_params,\n",
    "    start_date=start_date,\n",
    "    end_date=end_date,\n",
    "    frequency=rebalance_frequency,\n",
    "    initial_capital=initial_capital,\n",
    "    transaction_cost=transaction_cost\n",
    ")\n",
    "\n",
    "# Calcul des métriques de performance\n",
    "optimized_metrics = backtest_engine.calculate_performance_metrics(optimized_results)\n",
    "\n",
    "# Affichage des métriques principales\n",
    "print(f\"\\nPerformance de la stratégie optimisée:\")\n",
    "print(f\"  Rendement annualisé: {optimized_metrics['annualized_return']:.2%}\")\n",
    "print(f\"  Volatilité annualisée: {optimized_metrics['volatility']:.2%}\")\n",
    "print(f\"  Ratio de Sharpe: {optimized_metrics['sharpe_ratio']:.2f}\")\n",
    "print(f\"  Drawdown maximum: {optimized_metrics['max_drawdown']:.2%}\")\n",
    "\n",
    "# Comparaison avec la version non optimisée\n",
    "original_metrics = backtest_metrics[best_strategy]\n",
    "print(f\"\\nComparaison avec la version non optimisée:\")\n",
    "print(f\"  Amélioration du rendement: {optimized_metrics['annualized_return'] - original_metrics['annualized_return']:.2%}\")\n",
    "print(f\"  Amélioration du ratio de Sharpe: {optimized_metrics['sharpe_ratio'] - original_metrics['sharpe_ratio']:.2f}\")"
   ]
  },
  {
   "cell_type": "markdown",
   "metadata": {},
   "source": [
    "## Génération d'un rapport complet"
   ]
  },
  {
   "cell_type": "code",
   "execution_count": null,
   "metadata": {},
   "outputs": [],
   "source": [
    "# Création du répertoire pour les rapports\n",
    "reports_dir = os.path.join(project_root, config['paths']['reports'])\n",
    "ensure_dir(reports_dir)\n",
    "visualizations_dir = os.path.join(reports_dir, 'visualizations')\n",
    "ensure_dir(visualizations_dir)\n",
    "\n",
    "# Génération du rapport pour la stratégie optimisée\n",
    "report = backtest_engine.generate_performance_report(\n",
    "    optimized_results, \n",
    "    optimized_allocations,\n",
    "    output_file=os.path.join(reports_dir, f\"{best_strategy.lower().replace(' ', '_')}_optimized_report.json\")\n",
    ")\n",
    "\n",
    "# Génération des visualisations\n",
    "dashboard = visualizer.generate_performance_dashboard(\n",
    "    optimized_results,\n",
    "    optimized_allocations,\n",
    "    output_dir=visualizations_dir,\n",
    "    filename_prefix=f\"{best_strategy.lower().replace(' ', '_')}_optimized\",\n",
    "    format=config['visualization']['format'],\n",
    "    dpi=config['visualization']['dpi']\n",
    ")\n",
    "\n",
    "print(f\"Rapport de performance généré et sauvegardé dans {reports_dir}\")\n",
    "print(f\"Visualisations sauvegardées dans {visualizations_dir}\")"
   ]
  },
  {
   "cell_type": "markdown",
   "metadata": {},
   "source": [
    "## Conclusion"
   ]
  },
  {
   "cell_type": "markdown",
   "metadata": {},
   "source": [
    "Dans ce notebook, nous avons effectué un backtesting complet de notre stratégie de rotation sectorielle. Les principales conclusions sont:\n",
    "\n",
    "1. **Comparaison des stratégies**: Nous avons testé trois stratégies différentes - une basée uniquement sur le momentum, une basée uniquement sur les cycles économiques, et une approche combinée. La stratégie combinant les cycles économiques et le momentum a généralement obtenu les meilleurs résultats.\n",
    "\n",
    "2. **Optimisation des paramètres**: Nous avons optimisé les paramètres de notre meilleure stratégie, ce qui a permis d'améliorer significativement ses performances.\n",
    "\n",
    "3. **Impact des coûts de transaction**: Nous avons analysé l'impact des coûts de transaction sur les performances, montrant l'importance de les prendre en compte dans la conception de la stratégie.\n",
    "\n",
    "4. **Fréquence de rééquilibrage**: Nous avons également testé différentes fréquences de rééquilibrage, ce qui nous a permis de trouver un bon compromis entre performance et coûts de transaction.\n",
    "\n",
    "Ces résultats confirment l'efficacité de notre approche de rotation sectorielle basée sur les cycles économiques et le momentum, offrant une alternative intéressante aux stratégies d'investissement traditionnelles."
   ]
  },
  {
   "cell_type": "markdown",
   "metadata": {},
   "source": [
    "## Prochaines étapes"
   ]
  },
  {
   "cell_type": "markdown",
   "metadata": {},
   "source": [
    "Voici quelques pistes pour améliorer davantage notre stratégie:\n",
    "\n",
    "1. **Robustesse**: Tester la robustesse de la stratégie sur différentes périodes et marchés.\n",
    "2. **Facteurs supplémentaires**: Incorporer d'autres facteurs comme la valorisation, la volatilité ou les flux d'actifs.\n",
    "3. **Modèles avancés**: Explorer des modèles d'apprentissage automatique plus sophistiqués pour l'identification des cycles et la sélection des secteurs.\n",
    "4. **Application en temps réel**: Développer une infrastructure pour appliquer la stratégie en temps réel.\n",
    "5. **Optimisation du portefeuille**: Utiliser des techniques d'optimisation plus avancées pour la pondération des secteurs sélectionnés."
   ]
  }
 ],
 "metadata": {
  "kernelspec": {
   "display_name": "Python 3",
   "language": "python",
   "name": "python3"
  },
  "language_info": {
   "codemirror_mode": {
    "name": "ipython",
    "version": 3
   },
   "file_extension": ".py",
   "mimetype": "text/x-python",
   "name": "python",
   "nbconvert_exporter": "python",
   "pygments_lexer": "ipython3",
   "version": "3.8.10"
  }
 },
 "nbformat": 4,
 "nbformat_minor": 4
}