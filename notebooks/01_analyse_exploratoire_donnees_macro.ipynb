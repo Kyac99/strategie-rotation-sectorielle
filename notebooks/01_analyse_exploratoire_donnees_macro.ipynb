{
 "cells": [
  {
   "cell_type": "markdown",
   "metadata": {},
   "source": [
    "# Analyse Exploratoire des Données Macroéconomiques\n",
    "\n",
    "Ce notebook explore les données macroéconomiques collectées via l'API FRED pour identifier les cycles économiques et leurs caractéristiques. Cette analyse servira de base pour notre stratégie de rotation sectorielle."
   ]
  },
  {
   "cell_type": "markdown",
   "metadata": {},
   "source": [
    "## Importation des bibliothèques"
   ]
  },
  {
   "cell_type": "code",
   "execution_count": null,
   "metadata": {},
   "outputs": [],
   "source": [
    "import os\n",
    "import sys\n",
    "import numpy as np\n",
    "import pandas as pd\n",
    "import matplotlib.pyplot as plt\n",
    "import seaborn as sns\n",
    "from datetime import datetime\n",
    "from sklearn.preprocessing import StandardScaler\n",
    "from sklearn.decomposition import PCA\n",
    "from sklearn.cluster import KMeans\n",
    "import warnings\n",
    "\n",
    "# Suppression des avertissements pour une meilleure lisibilité\n",
    "warnings.filterwarnings('ignore')\n",
    "\n",
    "# Configuration des visualisations\n",
    "%matplotlib inline\n",
    "plt.style.use('seaborn-v0_8-whitegrid')\n",
    "plt.rcParams['figure.figsize'] = (12, 8)\n",
    "plt.rcParams['font.size'] = 12"
   ]
  },
  {
   "cell_type": "markdown",
   "metadata": {},
   "source": [
    "## Ajout du chemin du projet au PYTHONPATH"
   ]
  },
  {
   "cell_type": "code",
   "execution_count": null,
   "metadata": {},
   "outputs": [],
   "source": [
    "# Ajout du répertoire racine du projet au path\n",
    "project_root = os.path.abspath(os.path.join(os.getcwd(), '..'))\n",
    "sys.path.append(project_root)\n",
    "print(f\"Répertoire racine du projet: {project_root}\")"
   ]
  },
  {
   "cell_type": "markdown",
   "metadata": {},
   "source": [
    "## Importation des modules personnalisés"
   ]
  },
  {
   "cell_type": "code",
   "execution_count": null,
   "metadata": {},
   "outputs": [],
   "source": [
    "from src.data.macro_data_collector import MacroDataCollector\n",
    "from src.models.economic_cycle_classifier import EconomicCycleClassifier"
   ]
  },
  {
   "cell_type": "markdown",
   "metadata": {},
   "source": [
    "## Collecte et chargement des données"
   ]
  },
  {
   "cell_type": "code",
   "execution_count": null,
   "metadata": {},
   "outputs": [],
   "source": [
    "# Chemin des données prétraitées\n",
    "data_path = os.path.join(project_root, \"data\", \"processed\", \"macro_data.csv\")\n",
    "\n",
    "# Vérification si les données existent, sinon les collecter\n",
    "if not os.path.exists(data_path):\n",
    "    print(\"Collecte des données macroéconomiques...\")\n",
    "    # Création du répertoire si nécessaire\n",
    "    os.makedirs(os.path.dirname(data_path), exist_ok=True)\n",
    "    \n",
    "    # Collecte des données (nécessite une clé API FRED)\n",
    "    collector = MacroDataCollector()\n",
    "    macro_data = collector.get_all_series(start_date=\"2000-01-01\", frequency='m')\n",
    "    processed_data = collector.preprocess_data(macro_data)\n",
    "    \n",
    "    # Sauvegarde des données\n",
    "    processed_data.to_csv(data_path)\n",
    "    print(f\"Données sauvegardées dans {data_path}\")\n",
    "else:\n",
    "    print(f\"Chargement des données depuis {data_path}\")\n",
    "\n",
    "# Chargement des données\n",
    "df = pd.read_csv(data_path, index_col=0, parse_dates=True)\n",
    "print(f\"Données chargées avec succès: {df.shape[0]} observations et {df.shape[1]} variables\")"
   ]
  },
  {
   "cell_type": "markdown",
   "metadata": {},
   "source": [
    "## Aperçu des données"
   ]
  },
  {
   "cell_type": "code",
   "execution_count": null,
   "metadata": {},
   "outputs": [],
   "source": [
    "# Affichage des premières lignes\n",
    "df.head()"
   ]
  },
  {
   "cell_type": "code",
   "execution_count": null,
   "metadata": {},
   "outputs": [],
   "source": [
    "# Informations sur les colonnes\n",
    "df.info()"
   ]
  },
  {
   "cell_type": "code",
   "execution_count": null,
   "metadata": {},
   "outputs": [],
   "source": [
    "# Statistiques descriptives\n",
    "df.describe()"
   ]
  },
  {
   "cell_type": "markdown",
   "metadata": {},
   "source": [
    "## Vérification des valeurs manquantes"
   ]
  },
  {
   "cell_type": "code",
   "execution_count": null,
   "metadata": {},
   "outputs": [],
   "source": [
    "# Calcul du pourcentage de valeurs manquantes par colonne\n",
    "missing_values = df.isnull().sum() / len(df) * 100\n",
    "missing_values = missing_values.sort_values(ascending=False)\n",
    "\n",
    "# Visualisation des colonnes avec des valeurs manquantes\n",
    "plt.figure(figsize=(12, 6))\n",
    "plt.bar(missing_values.index[:15], missing_values.values[:15])\n",
    "plt.title('Pourcentage de valeurs manquantes par variable')\n",
    "plt.xlabel('Variables')\n",
    "plt.ylabel('% de valeurs manquantes')\n",
    "plt.xticks(rotation=90)\n",
    "plt.tight_layout()\n",
    "plt.show()"
   ]
  },
  {
   "cell_type": "markdown",
   "metadata": {},
   "source": [
    "## Traitement des valeurs manquantes"
   ]
  },
  {
   "cell_type": "code",
   "execution_count": null,
   "metadata": {},
   "outputs": [],
   "source": [
    "# Remplissage des valeurs manquantes avec la méthode forward fill\n",
    "df_filled = df.fillna(method='ffill')\n",
    "\n",
    "# Vérification des valeurs manquantes restantes\n",
    "missing_after = df_filled.isnull().sum().sum()\n",
    "print(f\"Nombre de valeurs manquantes restantes: {missing_after}\")\n",
    "\n",
    "# S'il reste des valeurs manquantes, on utilise backward fill\n",
    "if missing_after > 0:\n",
    "    df_filled = df_filled.fillna(method='bfill')\n",
    "    missing_final = df_filled.isnull().sum().sum()\n",
    "    print(f\"Nombre de valeurs manquantes après bfill: {missing_final}\")\n",
    "\n",
    "# Utilisation du DataFrame traité pour la suite\n",
    "df = df_filled"
   ]
  },
  {
   "cell_type": "markdown",
   "metadata": {},
   "source": [
    "## Analyse des indicateurs économiques clés"
   ]
  },
  {
   "cell_type": "code",
   "execution_count": null,
   "metadata": {},
   "outputs": [],
   "source": [
    "# Liste des indicateurs économiques clés à analyser\n",
    "key_indicators = [\n",
    "    'GDPC1_YOY',         # Croissance du PIB (annuelle)\n",
    "    'INDPRO_YOY',        # Croissance de la production industrielle (annuelle)\n",
    "    'UNRATE',            # Taux de chômage\n",
    "    'CPIAUCSL_YOY',      # Inflation (annuelle)\n",
    "    'FEDFUNDS',          # Taux d'intérêt directeur\n",
    "    'T10Y2Y',            # Spread de taux 10 ans - 2 ans\n",
    "    'BAMLH0A0HYM2',      # Spread de crédit à haut rendement\n",
    "    'UMCSENT'            # Confiance des consommateurs\n",
    "]\n",
    "\n",
    "# Filtrer pour avoir uniquement les indicateurs disponibles\n",
    "available_indicators = [indicator for indicator in key_indicators if indicator in df.columns]\n",
    "print(f\"Indicateurs disponibles: {available_indicators}\")"
   ]
  },
  {
   "cell_type": "markdown",
   "metadata": {},
   "source": [
    "### Évolution des indicateurs économiques clés"
   ]
  },
  {
   "cell_type": "code",
   "execution_count": null,
   "metadata": {},
   "outputs": [],
   "source": [
    "# Visualisation de l'évolution des indicateurs économiques clés\n",
    "fig, axes = plt.subplots(len(available_indicators), 1, figsize=(14, 4*len(available_indicators)))\n",
    "\n",
    "for i, indicator in enumerate(available_indicators):\n",
    "    ax = axes[i]\n",
    "    df[indicator].plot(ax=ax)\n",
    "    ax.set_title(f'Évolution de {indicator}')\n",
    "    ax.set_xlabel('Date')\n",
    "    ax.grid(True, alpha=0.3)\n",
    "\n",
    "plt.tight_layout()\n",
    "plt.show()"
   ]
  },
  {
   "cell_type": "markdown",
   "metadata": {},
   "source": [
    "### Corrélation entre les indicateurs économiques"
   ]
  },
  {
   "cell_type": "code",
   "execution_count": null,
   "metadata": {},
   "outputs": [],
   "source": [
    "# Calcul de la matrice de corrélation pour les indicateurs clés\n",
    "corr_matrix = df[available_indicators].corr()\n",
    "\n",
    "# Visualisation de la matrice de corrélation\n",
    "plt.figure(figsize=(12, 10))\n",
    "sns.heatmap(corr_matrix, annot=True, cmap='coolwarm', fmt='.2f', linewidths=0.5)\n",
    "plt.title('Matrice de corrélation des indicateurs économiques clés')\n",
    "plt.tight_layout()\n",
    "plt.show()"
   ]
  },
  {
   "cell_type": "markdown",
   "metadata": {},
   "source": [
    "## Identification des cycles économiques"
   ]
  },
  {
   "cell_type": "markdown",
   "metadata": {},
   "source": [
    "### Analyse en composantes principales (ACP)"
   ]
  },
  {
   "cell_type": "code",
   "execution_count": null,
   "metadata": {},
   "outputs": [],
   "source": [
    "# Préparation des données pour l'ACP (standardisation)\n",
    "X = df[available_indicators].copy()\n",
    "scaler = StandardScaler()\n",
    "X_scaled = scaler.fit_transform(X)\n",
    "\n",
    "# Application de l'ACP\n",
    "pca = PCA(n_components=2)\n",
    "X_pca = pca.fit_transform(X_scaled)\n",
    "\n",
    "# Création d'un DataFrame pour faciliter la visualisation\n",
    "pca_df = pd.DataFrame(data=X_pca, columns=['PC1', 'PC2'], index=df.index)\n",
    "\n",
    "# Pourcentage de variance expliquée\n",
    "explained_variance = pca.explained_variance_ratio_ * 100\n",
    "print(f\"Variance expliquée par PC1: {explained_variance[0]:.2f}%\")\n",
    "print(f\"Variance expliquée par PC2: {explained_variance[1]:.2f}%\")\n",
    "print(f\"Variance totale expliquée: {sum(explained_variance):.2f}%\")"
   ]
  },
  {
   "cell_type": "code",
   "execution_count": null,
   "metadata": {},
   "outputs": [],
   "source": [
    "# Visualisation des données dans l'espace de l'ACP\n",
    "plt.figure(figsize=(12, 8))\n",
    "plt.scatter(pca_df['PC1'], pca_df['PC2'], alpha=0.7)\n",
    "\n",
    "# Ajout des dates pour quelques points\n",
    "for i in range(0, len(pca_df), 24):  # Afficher une date tous les 24 mois\n",
    "    plt.annotate(pca_df.index[i].strftime('%Y-%m'), \n",
    "                 (pca_df['PC1'].iloc[i], pca_df['PC2'].iloc[i]),\n",
    "                 textcoords=\"offset points\", xytext=(0,10), ha='center')\n",
    "\n",
    "plt.xlabel(f'PC1 ({explained_variance[0]:.2f}%)')\n",
    "plt.ylabel(f'PC2 ({explained_variance[1]:.2f}%)')\n",
    "plt.title('Projection des données macroéconomiques dans l\\'espace ACP')\n",
    "plt.grid(True, alpha=0.3)\n",
    "plt.show()"
   ]
  },
  {
   "cell_type": "markdown",
   "metadata": {},
   "source": [
    "### Clustering pour identifier les phases du cycle économique"
   ]
  },
  {
   "cell_type": "code",
   "execution_count": null,
   "metadata": {},
   "outputs": [],
   "source": [
    "# Application du K-means avec 5 clusters (correspondant aux phases du cycle)\n",
    "kmeans = KMeans(n_clusters=5, random_state=42, n_init=10)\n",
    "clusters = kmeans.fit_predict(X_scaled)\n",
    "\n",
    "# Ajout des clusters au DataFrame\n",
    "pca_df['cluster'] = clusters\n",
    "\n",
    "# Visualisation des clusters dans l'espace de l'ACP\n",
    "plt.figure(figsize=(12, 8))\n",
    "scatter = plt.scatter(pca_df['PC1'], pca_df['PC2'], c=pca_df['cluster'], cmap='viridis', alpha=0.7)\n",
    "\n",
    "# Ajout des centres des clusters\n",
    "centers = pca.transform(kmeans.cluster_centers_)\n",
    "plt.scatter(centers[:, 0], centers[:, 1], c='red', s=200, alpha=0.5, marker='X')\n",
    "\n",
    "plt.xlabel(f'PC1 ({explained_variance[0]:.2f}%)')\n",
    "plt.ylabel(f'PC2 ({explained_variance[1]:.2f}%)')\n",
    "plt.title('Identification des phases du cycle économique par clustering')\n",
    "plt.grid(True, alpha=0.3)\n",
    "plt.colorbar(scatter, label='Cluster')\n",
    "plt.show()"
   ]
  },
  {
   "cell_type": "markdown",
   "metadata": {},
   "source": [
    "### Analyse des caractéristiques des clusters"
   ]
  },
  {
   "cell_type": "code",
   "execution_count": null,
   "metadata": {},
   "outputs": [],
   "source": [
    "# Ajout des clusters au DataFrame original\n",
    "df['cluster'] = clusters\n",
    "\n",
    "# Calcul des moyennes par cluster\n",
    "cluster_means = df.groupby('cluster')[available_indicators].mean()\n",
    "\n",
    "# Visualisation des moyennes par cluster\n",
    "plt.figure(figsize=(14, 10))\n",
    "sns.heatmap(cluster_means, annot=True, cmap='YlGnBu', fmt='.2f', linewidths=0.5)\n",
    "plt.title('Caractéristiques moyennes des phases du cycle économique')\n",
    "plt.tight_layout()\n",
    "plt.show()"
   ]
  },
  {
   "cell_type": "markdown",
   "metadata": {},
   "source": [
    "### Interprétation des clusters en phases du cycle économique"
   ]
  },
  {
   "cell_type": "code",
   "execution_count": null,
   "metadata": {},
   "outputs": [],
   "source": [
    "# Normalisation des valeurs pour faciliter l'interprétation\n",
    "normalized_means = pd.DataFrame()\n",
    "for col in cluster_means.columns:\n",
    "    normalized_means[col] = (cluster_means[col] - cluster_means[col].min()) / (cluster_means[col].max() - cluster_means[col].min())\n",
    "\n",
    "# Visualisation des valeurs normalisées\n",
    "plt.figure(figsize=(14, 10))\n",
    "sns.heatmap(normalized_means, annot=True, cmap='YlGnBu', fmt='.2f', linewidths=0.5)\n",
    "plt.title('Caractéristiques normalisées des phases du cycle économique')\n",
    "plt.tight_layout()\n",
    "plt.show()"
   ]
  },
  {
   "cell_type": "code",
   "execution_count": null,
   "metadata": {},
   "outputs": [],
   "source": [
    "# Assignation des phases économiques aux clusters\n",
    "# Cette assignation est basée sur l'analyse des caractéristiques des clusters\n",
    "# et peut nécessiter une interprétation manuelle\n",
    "\n",
    "# Exemple d'assignation (à adapter en fonction des résultats)\n",
    "cluster_phases = {\n",
    "    0: 'Expansion',    # Forte croissance, faible chômage, inflation modérée\n",
    "    1: 'Ralentissement', # Croissance en baisse, inflation élevée\n",
    "    2: 'Récession',    # Croissance négative, chômage élevé\n",
    "    3: 'Reprise',      # Croissance en hausse, chômage en baisse\n",
    "    4: 'Surchauffe'    # Croissance forte, inflation élevée\n",
    "}\n",
    "\n",
    "# Remplacement des clusters par les phases\n",
    "df['phase'] = df['cluster'].map(cluster_phases)\n",
    "\n",
    "# Affichage de la distribution des phases\n",
    "phase_distribution = df['phase'].value_counts()\n",
    "print(\"Distribution des phases économiques:\")\n",
    "print(phase_distribution)"
   ]
  },
  {
   "cell_type": "markdown",
   "metadata": {},
   "source": [
    "### Visualisation de l'évolution des phases au fil du temps"
   ]
  },
  {
   "cell_type": "code",
   "execution_count": null,
   "metadata": {},
   "outputs": [],
   "source": [
    "# Création d'une variable numérique pour les phases\n",
    "phase_numeric = df['phase'].map({phase: i for i, phase in enumerate(df['phase'].unique())})\n",
    "\n",
    "# Visualisation de l'évolution des phases au fil du temps\n",
    "plt.figure(figsize=(14, 6))\n",
    "plt.scatter(df.index, phase_numeric, c=phase_numeric, cmap='viridis', s=50, alpha=0.7)\n",
    "\n",
    "# Ajout des libellés de phases sur l'axe y\n",
    "phases_unique = sorted(df['phase'].unique())\n",
    "plt.yticks(range(len(phases_unique)), phases_unique)\n",
    "\n",
    "plt.title('Évolution des phases du cycle économique au fil du temps')\n",
    "plt.xlabel('Date')\n",
    "plt.ylabel('Phase économique')\n",
    "plt.grid(True, alpha=0.3)\n",
    "plt.tight_layout()\n",
    "plt.show()"
   ]
  },
  {
   "cell_type": "markdown",
   "metadata": {},
   "source": [
    "## Utilisation du modèle EconomicCycleClassifier"
   ]
  },
  {
   "cell_type": "code",
   "execution_count": null,
   "metadata": {},
   "outputs": [],
   "source": [
    "# Création du classifieur\n",
    "classifier = EconomicCycleClassifier(supervised=False)\n",
    "\n",
    "# Entraînement du classifieur\n",
    "classifier.fit(df)\n",
    "\n",
    "# Prédiction des phases\n",
    "phases = classifier.predict(df)\n",
    "\n",
    "# Visualisation de la distribution des phases\n",
    "fig = classifier.plot_cycle_distribution(df)\n",
    "plt.show()\n",
    "\n",
    "# Visualisation des caractéristiques des phases\n",
    "fig = classifier.plot_cycle_characteristics(df)\n",
    "plt.show()"
   ]
  },
  {
   "cell_type": "markdown",
   "metadata": {},
   "source": [
    "## Analyse des récessions officielles (NBER)"
   ]
  },
  {
   "cell_type": "code",
   "execution_count": null,
   "metadata": {},
   "outputs": [],
   "source": [
    "# Définition des périodes de récession officielles selon le NBER\n",
    "recessions = [\n",
    "    ('2001-03-01', '2001-11-01'),  # Éclatement de la bulle internet\n",
    "    ('2007-12-01', '2009-06-01'),  # Grande récession\n",
    "    ('2020-02-01', '2020-04-01')   # Pandémie COVID-19\n",
    "]\n",
    "\n",
    "# Fonction pour ajouter les zones de récession à un graphique\n",
    "def add_recession_bars(ax):\n",
    "    for start, end in recessions:\n",
    "        ax.axvspan(pd.Timestamp(start), pd.Timestamp(end), alpha=0.2, color='red')\n",
    "\n",
    "# Visualisation des indicateurs clés avec les périodes de récession\n",
    "fig, axes = plt.subplots(3, 1, figsize=(14, 12))\n",
    "\n",
    "# PIB\n",
    "ax = axes[0]\n",
    "if 'GDPC1_YOY' in df.columns:\n",
    "    df['GDPC1_YOY'].plot(ax=ax)\n",
    "    ax.set_title('Croissance du PIB (en %)')\n",
    "    ax.set_xlabel('')\n",
    "    ax.grid(True, alpha=0.3)\n",
    "    add_recession_bars(ax)\n",
    "    ax.axhline(y=0, color='k', linestyle='--', alpha=0.3)\n",
    "\n",
    "# Chômage\n",
    "ax = axes[1]\n",
    "if 'UNRATE' in df.columns:\n",
    "    df['UNRATE'].plot(ax=ax)\n",
    "    ax.set_title('Taux de chômage (en %)')\n",
    "    ax.set_xlabel('')\n",
    "    ax.grid(True, alpha=0.3)\n",
    "    add_recession_bars(ax)\n",
    "\n",
    "# Inflation\n",
    "ax = axes[2]\n",
    "if 'CPIAUCSL_YOY' in df.columns:\n",
    "    df['CPIAUCSL_YOY'].plot(ax=ax)\n",
    "    ax.set_title('Inflation (en %)')\n",
    "    ax.grid(True, alpha=0.3)\n",
    "    add_recession_bars(ax)\n",
    "    ax.axhline(y=2, color='k', linestyle='--', alpha=0.3)  # Cible d'inflation typique\n",
    "\n",
    "plt.tight_layout()\n",
    "plt.show()"
   ]
  },
  {
   "cell_type": "markdown",
   "metadata": {},
   "source": [
    "## Comparaison des phases identifiées avec les récessions officielles"
   ]
  },
  {
   "cell_type": "code",
   "execution_count": null,
   "metadata": {},
   "outputs": [],
   "source": [
    "# Création d'une colonne pour les récessions officielles\n",
    "df['official_recession'] = 0\n",
    "\n",
    "# Marquage des périodes de récession\n",
    "for start, end in recessions:\n",
    "    mask = (df.index >= pd.Timestamp(start)) & (df.index <= pd.Timestamp(end))\n",
    "    df.loc[mask, 'official_recession'] = 1\n",
    "\n",
    "# Visualisation de la concordance entre les phases identifiées et les récessions officielles\n",
    "plt.figure(figsize=(14, 6))\n",
    "\n",
    "# Affichage des phases identifiées\n",
    "plt.scatter(df.index, phase_numeric, c=phase_numeric, cmap='viridis', s=50, alpha=0.7, label='Phases identifiées')\n",
    "\n",
    "# Affichage des récessions officielles\n",
    "for start, end in recessions:\n",
    "    plt.axvspan(pd.Timestamp(start), pd.Timestamp(end), alpha=0.2, color='red', label='_nolegend_')\n",
    "\n",
    "# Ajout des libellés de phases sur l'axe y\n",
    "plt.yticks(range(len(phases_unique)), phases_unique)\n",
    "plt.title('Comparaison des phases identifiées avec les récessions officielles')\n",
    "plt.xlabel('Date')\n",
    "plt.ylabel('Phase économique')\n",
    "plt.grid(True, alpha=0.3)\n",
    "\n",
    "# Ajout d'une légende pour les récessions\n",
    "from matplotlib.patches import Patch\n",
    "legend_elements = [Patch(facecolor='red', alpha=0.2, label='Récession officielle (NBER)')]\n",
    "plt.legend(handles=legend_elements)\n",
    "\n",
    "plt.tight_layout()\n",
    "plt.show()"
   ]
  },
  {
   "cell_type": "markdown",
   "metadata": {},
   "source": [
    "## Préparation pour l'analyse sectorielle\n",
    "\n",
    "Maintenant que nous avons identifié les phases du cycle économique, nous pourrons explorer dans le prochain notebook comment les différents secteurs se comportent dans chaque phase."
   ]
  },
  {
   "cell_type": "code",
   "execution_count": null,
   "metadata": {},
   "outputs": [],
   "source": [
    "# Sauvegarde des phases identifiées pour utilisation dans d'autres notebooks\n",
    "phases_path = os.path.join(project_root, \"data\", \"processed\", \"economic_phases.csv\")\n",
    "phases_df = pd.DataFrame({'date': df.index, 'phase': df['phase']})\n",
    "phases_df.to_csv(phases_path, index=False)\n",
    "print(f\"Phases économiques sauvegardées dans {phases_path}\")"
   ]
  },
  {
   "cell_type": "markdown",
   "metadata": {},
   "source": [
    "## Sauvegarde du modèle entraîné"
   ]
  },
  {
   "cell_type": "code",
   "execution_count": null,
   "metadata": {},
   "outputs": [],
   "source": [
    "# Sauvegarde du modèle pour utilisation dans d'autres notebooks\n",
    "model_path = os.path.join(project_root, \"models\", \"economic_cycle_classifier.joblib\")\n",
    "os.makedirs(os.path.dirname(model_path), exist_ok=True)\n",
    "classifier.save_model(model_path)\n",
    "print(f\"Modèle de classification des cycles économiques sauvegardé dans {model_path}\")"
   ]
  },
  {
   "cell_type": "markdown",
   "metadata": {},
   "source": [
    "## Conclusion\n",
    "\n",
    "Dans ce notebook, nous avons exploré les données macroéconomiques et identifié les phases du cycle économique. Nous avons constaté que :\n",
    "\n",
    "1. Les indicateurs économiques (PIB, chômage, inflation, etc.) montrent des tendances claires qui peuvent être utilisées pour identifier les phases du cycle.\n",
    "2. Le clustering nous a permis d'identifier 5 phases distinctes du cycle économique : Expansion, Surchauffe, Ralentissement, Récession et Reprise.\n",
    "3. Ces phases correspondent généralement bien aux récessions officielles identifiées par le NBER.\n",
    "4. Notre modèle de classification des cycles économiques peut être utilisé pour prédire la phase actuelle du cycle et guider notre stratégie de rotation sectorielle.\n",
    "\n",
    "Dans le prochain notebook, nous analyserons les performances sectorielles dans chaque phase du cycle économique pour identifier les opportunités de rotation sectorielle."
   ]
  }
 ],
 "metadata": {
  "kernelspec": {
   "display_name": "Python 3",
   "language": "python",
   "name": "python3"
  },
  "language_info": {
   "codemirror_mode": {
    "name": "ipython",
    "version": 3
   },
   "file_extension": ".py",
   "mimetype": "text/x-python",
   "name": "python",
   "nbconvert_exporter": "python",
   "pygments_lexer": "ipython3",
   "version": "3.8.10"
  }
 },
 "nbformat": 4,
 "nbformat_minor": 4
}