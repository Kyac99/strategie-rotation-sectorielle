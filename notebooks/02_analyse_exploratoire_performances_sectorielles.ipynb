{
 "cells": [
  {
   "cell_type": "markdown",
   "metadata": {},
   "source": [
    "# Analyse Exploratoire des Performances Sectorielles\n",
    "\n",
    "Ce notebook explore les performances des différents secteurs du marché (ETFs sectoriels) et leur comportement dans les différentes phases du cycle économique identifiées précédemment."
   ]
  },
  {
   "cell_type": "markdown",
   "metadata": {},
   "source": [
    "## Importation des bibliothèques"
   ]
  },
  {
   "cell_type": "code",
   "execution_count": null,
   "metadata": {},
   "outputs": [],
   "source": [
    "import os\n",
    "import sys\n",
    "import numpy as np\n",
    "import pandas as pd\n",
    "import matplotlib.pyplot as plt\n",
    "import seaborn as sns\n",
    "from datetime import datetime\n",
    "import warnings\n",
    "import joblib\n",
    "\n",
    "# Suppression des avertissements pour une meilleure lisibilité\n",
    "warnings.filterwarnings('ignore')\n",
    "\n",
    "# Configuration des visualisations\n",
    "%matplotlib inline\n",
    "plt.style.use('seaborn-v0_8-whitegrid')\n",
    "plt.rcParams['figure.figsize'] = (12, 8)\n",
    "plt.rcParams['font.size'] = 12"
   ]
  },
  {
   "cell_type": "markdown",
   "metadata": {},
   "source": [
    "## Ajout du chemin du projet au PYTHONPATH"
   ]
  },
  {
   "cell_type": "code",
   "execution_count": null,
   "metadata": {},
   "outputs": [],
   "source": [
    "# Ajout du répertoire racine du projet au path\n",
    "project_root = os.path.abspath(os.path.join(os.getcwd(), '..'))\n",
    "sys.path.append(project_root)\n",
    "print(f\"Répertoire racine du projet: {project_root}\")"
   ]
  },
  {
   "cell_type": "markdown",
   "metadata": {},
   "source": [
    "## Importation des modules personnalisés"
   ]
  },
  {
   "cell_type": "code",
   "execution_count": null,
   "metadata": {},
   "outputs": [],
   "source": [
    "from src.data.sector_data_collector import SectorDataCollector\n",
    "from src.models.economic_cycle_classifier import EconomicCycleClassifier"
   ]
  },
  {
   "cell_type": "markdown",
   "metadata": {},
   "source": [
    "## Collecte et chargement des données"
   ]
  },
  {
   "cell_type": "code",
   "execution_count": null,
   "metadata": {},
   "outputs": [],
   "source": [
    "# Chemins des données prétraitées\n",
    "sector_data_path = os.path.join(project_root, \"data\", \"processed\", \"sector_data.csv\")\n",
    "phases_path = os.path.join(project_root, \"data\", \"processed\", \"economic_phases.csv\")\n",
    "\n",
    "# Vérification si les données sectorielles existent, sinon les collecter\n",
    "if not os.path.exists(sector_data_path):\n",
    "    print(\"Collecte des données sectorielles...\")\n",
    "    # Création du répertoire si nécessaire\n",
    "    os.makedirs(os.path.dirname(sector_data_path), exist_ok=True)\n",
    "    \n",
    "    # Collecte des données\n",
    "    collector = SectorDataCollector()\n",
    "    etf_data = collector.get_all_etf_data(start_date=\"2000-01-01\")\n",
    "    processed_data = collector.preprocess_data(etf_data)\n",
    "    \n",
    "    # Sauvegarde des données\n",
    "    processed_data.to_csv(sector_data_path)\n",
    "    print(f\"Données sauvegardées dans {sector_data_path}\")\n",
    "else:\n",
    "    print(f\"Chargement des données depuis {sector_data_path}\")\n",
    "\n",
    "# Chargement des données sectorielles\n",
    "sector_df = pd.read_csv(sector_data_path, index_col=0, parse_dates=True)\n",
    "print(f\"Données sectorielles chargées avec succès: {sector_df.shape[0]} observations et {sector_df.shape[1]} variables\")\n",
    "\n",
    "# Chargement des phases économiques\n",
    "if os.path.exists(phases_path):\n",
    "    phases_df = pd.read_csv(phases_path)\n",
    "    phases_df['date'] = pd.to_datetime(phases_df['date'])\n",
    "    phases_df.set_index('date', inplace=True)\n",
    "    print(f\"Phases économiques chargées avec succès: {phases_df.shape[0]} observations\")\n",
    "else:\n",
    "    print(\"Phases économiques non trouvées. Veuillez d'abord exécuter le notebook 01_analyse_exploratoire_donnees_macro.ipynb\")"
   ]
  },
  {
   "cell_type": "markdown",
   "metadata": {},
   "source": [
    "## Aperçu des données sectorielles"
   ]
  },
  {
   "cell_type": "code",
   "execution_count": null,
   "metadata": {},
   "outputs": [],
   "source": [
    "# Affichage des premières lignes\n",
    "sector_df.head()"
   ]
  },
  {
   "cell_type": "code",
   "execution_count": null,
   "metadata": {},
   "outputs": [],
   "source": [
    "# Liste des ETFs sectoriels et leur description\n",
    "sector_etfs = {\n",
    "    'XLY': 'Consommation discrétionnaire',\n",
    "    'XLP': 'Consommation de base',\n",
    "    'XLE': 'Énergie',\n",
    "    'XLF': 'Finance',\n",
    "    'XLV': 'Santé',\n",
    "    'XLI': 'Industrie',\n",
    "    'XLB': 'Matériaux',\n",
    "    'XLK': 'Technologie',\n",
    "    'XLU': 'Services publics',\n",
    "    'XLRE': 'Immobilier',\n",
    "    'XLC': 'Services de communication'\n",
    "}\n",
    "\n",
    "# Vérification des colonnes disponibles\n",
    "available_sectors = []\n",
    "for sector in sector_etfs.keys():\n",
    "    if sector in sector_df.columns:\n",
    "        available_sectors.append(sector)\n",
    "        \n",
    "print(f\"Secteurs disponibles: {len(available_sectors)} sur {len(sector_etfs)}\")\n",
    "for sector in available_sectors:\n",
    "    print(f\"  - {sector}: {sector_etfs[sector]}\")"
   ]
  },
  {
   "cell_type": "markdown",
   "metadata": {},
   "source": [
    "## Extraction des prix et calcul des rendements"
   ]
  },
  {
   "cell_type": "code",
   "execution_count": null,
   "metadata": {},
   "outputs": [],
   "source": [
    "# Extraction des prix de clôture ajustés\n",
    "prices = sector_df[available_sectors].copy()\n",
    "\n",
    "# Vérification des données de prix\n",
    "print(f\"Période couverte: {prices.index[0]} à {prices.index[-1]}\")\n",
    "print(f\"Nombre d'observations: {len(prices)}\")\n",
    "\n",
    "# Affichage des premières lignes\n",
    "prices.head()"
   ]
  },
  {
   "cell_type": "code",
   "execution_count": null,
   "metadata": {},
   "outputs": [],
   "source": [
    "# Calcul des rendements mensuels\n",
    "monthly_returns = prices.resample('M').last().pct_change() * 100\n",
    "monthly_returns.index = monthly_returns.index.to_period('M')\n",
    "\n",
    "# Affichage des rendements mensuels\n",
    "monthly_returns.head()"
   ]
  },
  {
   "cell_type": "markdown",
   "metadata": {},
   "source": [
    "## Performance historique des secteurs"
   ]
  },
  {
   "cell_type": "code",
   "execution_count": null,
   "metadata": {},
   "outputs": [],
   "source": [
    "# Calcul de la performance cumulée\n",
    "cumulative_returns = (1 + monthly_returns / 100).cumprod() - 1\n",
    "\n",
    "# Visualisation de la performance cumulée\n",
    "plt.figure(figsize=(14, 8))\n",
    "for sector in available_sectors:\n",
    "    plt.plot(cumulative_returns.index.to_timestamp(), cumulative_returns[sector] * 100, label=f\"{sector} ({sector_etfs[sector]})\")\n",
    "\n",
    "plt.title('Performance cumulée des secteurs (en %)', fontsize=14)\n",
    "plt.xlabel('Date')\n",
    "plt.ylabel('Rendement cumulé (%)')\n",
    "plt.grid(True, alpha=0.3)\n",
    "plt.legend(bbox_to_anchor=(1.05, 1), loc='upper left')\n",
    "plt.tight_layout()\n",
    "plt.show()"
   ]
  },
  {
   "cell_type": "code",
   "execution_count": null,
   "metadata": {},
   "outputs": [],
   "source": [
    "# Calcul des statistiques de performance annualisées\n",
    "annual_stats = pd.DataFrame(index=available_sectors)\n",
    "\n",
    "# Rendement annualisé\n",
    "annual_stats['Rendement annualisé (%)'] = ((1 + monthly_returns / 100).prod() ** (12 / len(monthly_returns)) - 1) * 100\n",
    "\n",
    "# Volatilité annualisée\n",
    "annual_stats['Volatilité annualisée (%)'] = monthly_returns.std() * np.sqrt(12)\n",
    "\n",
    "# Ratio de Sharpe (supposons un taux sans risque annualisé de 2%)\n",
    "risk_free_rate = 0.02\n",
    "annual_stats['Ratio de Sharpe'] = (annual_stats['Rendement annualisé (%)'] / 100 - risk_free_rate) / (annual_stats['Volatilité annualisée (%)'] / 100)\n",
    "\n",
    "# Maximum drawdown\n",
    "drawdowns = pd.DataFrame()\n",
    "for sector in available_sectors:\n",
    "    cumulative = (1 + monthly_returns[sector] / 100).cumprod()\n",
    "    running_max = cumulative.cummax()\n",
    "    drawdown = (cumulative / running_max) - 1\n",
    "    drawdowns[sector] = drawdown\n",
    "annual_stats['Maximum drawdown (%)'] = drawdowns.min() * 100\n",
    "\n",
    "# Tri par rendement annualisé\n",
    "annual_stats = annual_stats.sort_values('Rendement annualisé (%)', ascending=False)\n",
    "\n",
    "# Ajout des noms complets des secteurs\n",
    "annual_stats['Secteur'] = annual_stats.index.map(sector_etfs)\n",
    "annual_stats = annual_stats[['Secteur', 'Rendement annualisé (%)', 'Volatilité annualisée (%)', 'Ratio de Sharpe', 'Maximum drawdown (%)']]\n",
    "\n",
    "annual_stats"
   ]
  },
  {
   "cell_type": "code",
   "execution_count": null,
   "metadata": {},
   "outputs": [],
   "source": [
    "# Visualisation des rendements vs volatilité\n",
    "plt.figure(figsize=(12, 8))\n",
    "plt.scatter(annual_stats['Volatilité annualisée (%)'], annual_stats['Rendement annualisé (%)'], s=100, alpha=0.7)\n",
    "\n",
    "# Ajout des labels pour chaque point\n",
    "for idx, row in annual_stats.iterrows():\n",
    "    plt.annotate(idx, \n",
    "                 (row['Volatilité annualisée (%)'], row['Rendement annualisé (%)']),\n",
    "                 xytext=(7, 0), \n",
    "                 textcoords='offset points',\n",
    "                 fontsize=12)\n",
    "\n",
    "plt.axhline(y=0, color='r', linestyle='--', alpha=0.3)\n",
    "plt.axvline(x=0, color='r', linestyle='--', alpha=0.3)\n",
    "\n",
    "plt.title('Rendement vs Volatilité par secteur', fontsize=14)\n",
    "plt.xlabel('Volatilité annualisée (%)')\n",
    "plt.ylabel('Rendement annualisé (%)')\n",
    "plt.grid(True, alpha=0.3)\n",
    "plt.tight_layout()\n",
    "plt.show()"
   ]
  },
  {
   "cell_type": "markdown",
   "metadata": {},
   "source": [
    "## Analyse de corrélation entre les secteurs"
   ]
  },
  {
   "cell_type": "code",
   "execution_count": null,
   "metadata": {},
   "outputs": [],
   "source": [
    "# Calcul de la matrice de corrélation des rendements mensuels\n",
    "corr_matrix = monthly_returns.corr()\n",
    "\n",
    "# Visualisation de la matrice de corrélation\n",
    "plt.figure(figsize=(12, 10))\n",
    "sns.heatmap(corr_matrix, annot=True, cmap='coolwarm', fmt='.2f', linewidths=0.5)\n",
    "plt.title('Matrice de corrélation des rendements sectoriels', fontsize=14)\n",
    "plt.tight_layout()\n",
    "plt.show()"
   ]
  },
  {
   "cell_type": "markdown",
   "metadata": {},
   "source": [
    "## Fusion des données sectorielles avec les phases économiques"
   ]
  },
  {
   "cell_type": "code",
   "execution_count": null,
   "metadata": {},
   "outputs": [],
   "source": [
    "# Alignement des phases économiques avec les rendements mensuels\n",
    "phases_monthly = phases_df.resample('M').last()\n",
    "phases_monthly.index = phases_monthly.index.to_period('M')\n",
    "\n",
    "# Fusion des données\n",
    "merged_data = pd.merge(monthly_returns, phases_monthly, left_index=True, right_index=True, how='inner')\n",
    "\n",
    "print(f\"Données fusionnées: {merged_data.shape[0]} observations\")\n",
    "merged_data.head()"
   ]
  },
  {
   "cell_type": "markdown",
   "metadata": {},
   "source": [
    "## Performance des secteurs par phase du cycle économique"
   ]
  },
  {
   "cell_type": "code",
   "execution_count": null,
   "metadata": {},
   "outputs": [],
   "source": [
    "# Calcul des rendements moyens par phase et par secteur\n",
    "phase_returns = merged_data.groupby('phase')[available_sectors].mean()\n",
    "\n",
    "# Trier les phases dans l'ordre du cycle économique\n",
    "cycle_order = ['Expansion', 'Surchauffe', 'Ralentissement', 'Récession', 'Reprise']\n",
    "phase_returns = phase_returns.reindex(cycle_order)\n",
    "\n",
    "# Visualisation des rendements moyens par phase\n",
    "plt.figure(figsize=(14, 8))\n",
    "ax = phase_returns.T.plot(kind='bar', figsize=(14, 8))\n",
    "plt.title('Rendement mensuel moyen par secteur et par phase du cycle économique', fontsize=14)\n",
    "plt.xlabel('Secteur')\n",
    "plt.ylabel('Rendement mensuel moyen (%)')\n",
    "plt.axhline(y=0, color='r', linestyle='--', alpha=0.3)\n",
    "plt.xticks(rotation=45)\n",
    "plt.grid(True, alpha=0.3)\n",
    "plt.legend(title='Phase')\n",
    "plt.tight_layout()\n",
    "plt.show()"
   ]
  },
  {
   "cell_type": "code",
   "execution_count": null,
   "metadata": {},
   "outputs": [],
   "source": [
    "# Visualisation heatmap des rendements par phase\n",
    "plt.figure(figsize=(14, 10))\n",
    "sns.heatmap(phase_returns, annot=True, cmap='RdYlGn', fmt='.2f', linewidths=0.5, center=0)\n",
    "plt.title('Heatmap des rendements mensuels moyens par phase et secteur', fontsize=14)\n",
    "plt.tight_layout()\n",
    "plt.show()"
   ]
  },
  {
   "cell_type": "code",
   "execution_count": null,
   "metadata": {},
   "outputs": [],
   "source": [
    "# Calcul de la volatilité par phase et par secteur\n",
    "phase_volatility = merged_data.groupby('phase')[available_sectors].std()\n",
    "phase_volatility = phase_volatility.reindex(cycle_order)\n",
    "\n",
    "# Visualisation de la volatilité par phase\n",
    "plt.figure(figsize=(14, 10))\n",
    "sns.heatmap(phase_volatility, annot=True, cmap='YlOrRd', fmt='.2f', linewidths=0.5)\n",
    "plt.title('Volatilité mensuelle par phase et secteur', fontsize=14)\n",
    "plt.tight_layout()\n",
    "plt.show()"
   ]
  },
  {
   "cell_type": "code",
   "execution_count": null,
   "metadata": {},
   "outputs": [],
   "source": [
    "# Calcul du ratio rendement/risque par phase et par secteur\n",
    "phase_sharpe = phase_returns / phase_volatility\n",
    "\n",
    "# Visualisation du ratio rendement/risque par phase\n",
    "plt.figure(figsize=(14, 10))\n",
    "sns.heatmap(phase_sharpe, annot=True, cmap='RdYlGn', fmt='.2f', linewidths=0.5, center=0)\n",
    "plt.title('Ratio rendement/risque par phase et secteur', fontsize=14)\n",
    "plt.tight_layout()\n",
    "plt.show()"
   ]
  },
  {
   "cell_type": "markdown",
   "metadata": {},
   "source": [
    "## Analyse des meilleurs secteurs par phase"
   ]
  },
  {
   "cell_type": "code",
   "execution_count": null,
   "metadata": {},
   "outputs": [],
   "source": [
    "# Sélection des 3 meilleurs secteurs par phase selon le rendement moyen\n",
    "top_sectors = {}\n",
    "worst_sectors = {}\n",
    "\n",
    "for phase in cycle_order:\n",
    "    # Meilleurs secteurs\n",
    "    top = phase_returns.loc[phase].nlargest(3)\n",
    "    top_sectors[phase] = [(sector, round(return_val, 2)) for sector, return_val in zip(top.index, top.values)]\n",
    "    \n",
    "    # Pires secteurs\n",
    "    bottom = phase_returns.loc[phase].nsmallest(3)\n",
    "    worst_sectors[phase] = [(sector, round(return_val, 2)) for sector, return_val in zip(bottom.index, bottom.values)]\n",
    "\n",
    "# Affichage des résultats\n",
    "print(\"Meilleurs secteurs par phase:\")\n",
    "for phase, sectors in top_sectors.items():\n",
    "    print(f\"\\n{phase}:\")\n",
    "    for i, (sector, return_val) in enumerate(sectors):\n",
    "        print(f\"  {i+1}. {sector} ({sector_etfs[sector]}): {return_val}%\")\n",
    "\n",
    "print(\"\\n\" + \"-\"*50)\n",
    "\n",
    "print(\"\\nPires secteurs par phase:\")\n",
    "for phase, sectors in worst_sectors.items():\n",
    "    print(f\"\\n{phase}:\")\n",
    "    for i, (sector, return_val) in enumerate(sectors):\n",
    "        print(f\"  {i+1}. {sector} ({sector_etfs[sector]}): {return_val}%\")"
   ]
  },
  {
   "cell_type": "code",
   "execution_count": null,
   "metadata": {},
   "outputs": [],
   "source": [
    "# Création d'un DataFrame pour les recommandations sectorielles par phase\n",
    "recommendations = pd.DataFrame(index=cycle_order, columns=['Top 3 secteurs', 'À éviter'])\n",
    "\n",
    "for phase in cycle_order:\n",
    "    # Top 3 secteurs\n",
    "    top3 = \", \".join([f\"{s} ({sector_etfs[s]})\" for s, _ in top_sectors[phase]])\n",
    "    recommendations.loc[phase, 'Top 3 secteurs'] = top3\n",
    "    \n",
    "    # Secteurs à éviter\n",
    "    avoid = \", \".join([f\"{s} ({sector_etfs[s]})\" for s, _ in worst_sectors[phase]])\n",
    "    recommendations.loc[phase, 'À éviter'] = avoid\n",
    "\n",
    "recommendations"
   ]
  },
  {
   "cell_type": "markdown",
   "metadata": {},
   "source": [
    "## Création d'une stratégie simple de rotation sectorielle"
   ]
  },
  {
   "cell_type": "code",
   "execution_count": null,
   "metadata": {},
   "outputs": [],
   "source": [
    "# Simulation d'une stratégie simple de rotation sectorielle basée sur les phases économiques\n",
    "def simulate_rotation_strategy(returns, phases, top_n=3):\n",
    "    \"\"\"\n",
    "    Simule une stratégie de rotation sectorielle simple.\n",
    "    \n",
    "    Args:\n",
    "        returns (pd.DataFrame): Rendements mensuels des secteurs.\n",
    "        phases (pd.Series): Phases économiques pour chaque mois.\n",
    "        top_n (int): Nombre de secteurs à sélectionner par phase.\n",
    "        \n",
    "    Returns:\n",
    "        pd.Series: Rendements mensuels de la stratégie.\n",
    "    \"\"\"\n",
    "    # Fusion des données\n",
    "    data = pd.merge(returns, phases, left_index=True, right_index=True, how='inner')\n",
    "    \n",
    "    # Initialisation des rendements de la stratégie\n",
    "    strategy_returns = pd.Series(index=data.index, dtype=float)\n",
    "    \n",
    "    # Pour chaque mois\n",
    "    for date, row in data.iterrows():\n",
    "        phase = row['phase']\n",
    "        \n",
    "        # Sélection des top N secteurs pour cette phase (basée sur notre analyse)\n",
    "        top_sectors_phase = [s for s, _ in top_sectors[phase][:top_n]]\n",
    "        \n",
    "        # Calcul du rendement moyen des secteurs sélectionnés pour ce mois\n",
    "        selected_returns = row[top_sectors_phase]\n",
    "        avg_return = selected_returns.mean()\n",
    "        \n",
    "        # Stockage du rendement de la stratégie\n",
    "        strategy_returns[date] = avg_return\n",
    "    \n",
    "    return strategy_returns\n",
    "\n",
    "# Simulation de la stratégie\n",
    "strategy_returns = simulate_rotation_strategy(monthly_returns, phases_monthly['phase'])\n",
    "\n",
    "# Calcul des rendements cumulés\n",
    "cumulative_strategy = (1 + strategy_returns / 100).cumprod() - 1\n",
    "\n",
    "# Calcul des rendements cumulés du S&P 500 (benchmark)\n",
    "if 'SPY' in monthly_returns.columns:\n",
    "    benchmark_returns = monthly_returns['SPY']\n",
    "    cumulative_benchmark = (1 + benchmark_returns / 100).cumprod() - 1\n",
    "else:\n",
    "    # Utiliser la moyenne des secteurs comme approximation du marché\n",
    "    benchmark_returns = monthly_returns[available_sectors].mean(axis=1)\n",
    "    cumulative_benchmark = (1 + benchmark_returns / 100).cumprod() - 1"
   ]
  },
  {
   "cell_type": "code",
   "execution_count": null,
   "metadata": {},
   "outputs": [],
   "source": [
    "# Visualisation des rendements cumulés\n",
    "plt.figure(figsize=(14, 8))\n",
    "plt.plot(cumulative_strategy.index.to_timestamp(), cumulative_strategy * 100, 'b-', linewidth=2, label='Stratégie de rotation sectorielle')\n",
    "plt.plot(cumulative_benchmark.index.to_timestamp(), cumulative_benchmark * 100, 'r--', linewidth=2, label='Benchmark (S&P 500)')\n",
    "\n",
    "plt.title('Performance de la stratégie de rotation sectorielle vs Benchmark', fontsize=14)\n",
    "plt.xlabel('Date')\n",
    "plt.ylabel('Rendement cumulé (%)')\n",
    "plt.grid(True, alpha=0.3)\n",
    "plt.legend()\n",
    "plt.tight_layout()\n",
    "plt.show()"
   ]
  },
  {
   "cell_type": "code",
   "execution_count": null,
   "metadata": {},
   "outputs": [],
   "source": [
    "# Calcul des statistiques de performance\n",
    "performance_stats = pd.DataFrame(index=['Stratégie', 'Benchmark'])\n",
    "\n",
    "# Rendement annualisé\n",
    "performance_stats['Rendement annualisé (%)'] = [\n",
    "    ((1 + strategy_returns / 100).prod() ** (12 / len(strategy_returns)) - 1) * 100,\n",
    "    ((1 + benchmark_returns / 100).prod() ** (12 / len(benchmark_returns)) - 1) * 100\n",
    "]\n",
    "\n",
    "# Volatilité annualisée\n",
    "performance_stats['Volatilité annualisée (%)'] = [\n",
    "    strategy_returns.std() * np.sqrt(12),\n",
    "    benchmark_returns.std() * np.sqrt(12)\n",
    "]\n",
    "\n",
    "# Ratio de Sharpe\n",
    "performance_stats['Ratio de Sharpe'] = [\n",
    "    (performance_stats.loc['Stratégie', 'Rendement annualisé (%)'] / 100 - risk_free_rate) / (performance_stats.loc['Stratégie', 'Volatilité annualisée (%)'] / 100),\n",
    "    (performance_stats.loc['Benchmark', 'Rendement annualisé (%)'] / 100 - risk_free_rate) / (performance_stats.loc['Benchmark', 'Volatilité annualisée (%)'] / 100)\n",
    "]\n",
    "\n",
    "# Maximum drawdown\n",
    "for i, returns in enumerate([strategy_returns, benchmark_returns]):\n",
    "    cumulative = (1 + returns / 100).cumprod()\n",
    "    running_max = cumulative.cummax()\n",
    "    drawdown = (cumulative / running_max) - 1\n",
    "    max_dd = drawdown.min() * 100\n",
    "    performance_stats.iloc[i, performance_stats.columns.get_loc('Maximum drawdown (%)')] = max_dd\n",
    "\n",
    "performance_stats"
   ]
  },
  {
   "cell_type": "markdown",
   "metadata": {},
   "source": [
    "## Analyse du momentum sectoriel"
   ]
  },
  {
   "cell_type": "code",
   "execution_count": null,
   "metadata": {},
   "outputs": [],
   "source": [
    "# Calcul du momentum sur différentes périodes (3, 6, 12 mois)\n",
    "momentum_periods = [3, 6, 12]\n",
    "momentum_dfs = {}\n",
    "\n",
    "for period in momentum_periods:\n",
    "    # Calcul du momentum (rendement sur la période)\n",
    "    momentum = monthly_returns.rolling(period).apply(lambda x: (1 + x/100).prod() - 1) * 100\n",
    "    momentum_dfs[period] = momentum\n",
    "    \n",
    "    # Affichage des dernières valeurs\n",
    "    print(f\"\\nMomentum sur {period} mois (dernier mois):\")\n",
    "    last_momentum = momentum.iloc[-1].sort_values(ascending=False)\n",
    "    for sector, mom in last_momentum.items():\n",
    "        if sector in sector_etfs:\n",
    "            print(f\"  {sector} ({sector_etfs[sector]}): {mom:.2f}%\")"
   ]
  },
  {
   "cell_type": "code",
   "execution_count": null,
   "metadata": {},
   "outputs": [],
   "source": [
    "# Visualisation du momentum à 6 mois\n",
    "momentum_6m = momentum_dfs[6]\n",
    "plt.figure(figsize=(14, 8))\n",
    "\n",
    "for sector in available_sectors:\n",
    "    plt.plot(momentum_6m.index.to_timestamp(), momentum_6m[sector], label=f\"{sector} ({sector_etfs[sector]})\")\n",
    "\n",
    "plt.title('Momentum sur 6 mois par secteur', fontsize=14)\n",
    "plt.xlabel('Date')\n",
    "plt.ylabel('Momentum sur 6 mois (%)')\n",
    "plt.axhline(y=0, color='r', linestyle='--', alpha=0.3)\n",
    "plt.grid(True, alpha=0.3)\n",
    "plt.legend(bbox_to_anchor=(1.05, 1), loc='upper left')\n",
    "plt.tight_layout()\n",
    "plt.show()"
   ]
  },
  {
   "cell_type": "markdown",
   "metadata": {},
   "source": [
    "## Combinaison de l'analyse des cycles économiques et du momentum"
   ]
  },
  {
   "cell_type": "code",
   "execution_count": null,
   "metadata": {},
   "outputs": [],
   "source": [
    "# Simulation d'une stratégie combinant l'analyse des cycles et le momentum\n",
    "def simulate_combined_strategy(returns, phases, momentum_df, top_n=3, momentum_weight=0.5):\n",
    "    \"\"\"\n",
    "    Simule une stratégie combinant l'analyse des cycles économiques et le momentum.\n",
    "    \n",
    "    Args:\n",
    "        returns (pd.DataFrame): Rendements mensuels des secteurs.\n",
    "        phases (pd.Series): Phases économiques pour chaque mois.\n",
    "        momentum_df (pd.DataFrame): Momentum sectoriel.\n",
    "        top_n (int): Nombre de secteurs à sélectionner.\n",
    "        momentum_weight (float): Poids du momentum dans la sélection (0-1).\n",
    "        \n",
    "    Returns:\n",
    "        pd.Series: Rendements mensuels de la stratégie.\n",
    "    \"\"\"\n",
    "    # Fusion des données\n",
    "    data = pd.merge(returns, phases, left_index=True, right_index=True, how='inner')\n",
    "    \n",
    "    # Initialisation des rendements de la stratégie\n",
    "    strategy_returns = pd.Series(index=data.index, dtype=float)\n",
    "    selected_sectors_history = {}\n",
    "    \n",
    "    # Pour chaque mois\n",
    "    for date, row in data.iterrows():\n",
    "        phase = row['phase']\n",
    "        \n",
    "        # Skip s'il n'y a pas de données de momentum disponibles\n",
    "        if date not in momentum_df.index or momentum_df.loc[date].isna().all():\n",
    "            continue\n",
    "        \n",
    "        # Scores de phase pour les secteurs (basés sur notre analyse)\n",
    "        phase_scores = phase_returns.loc[phase].copy()\n",
    "        \n",
    "        # Normalisation des scores de phase (0-1)\n",
    "        phase_scores = (phase_scores - phase_scores.min()) / (phase_scores.max() - phase_scores.min())\n",
    "        \n",
    "        # Scores de momentum\n",
    "        momentum_scores = momentum_df.loc[date].copy()\n",
    "        \n",
    "        # Normalisation des scores de momentum (0-1)\n",
    "        momentum_scores = (momentum_scores - momentum_scores.min()) / (momentum_scores.max() - momentum_scores.min())\n",
    "        \n",
    "        # Combinaison des scores\n",
    "        combined_scores = phase_scores * (1 - momentum_weight) + momentum_scores * momentum_weight\n",
    "        \n",
    "        # Sélection des top N secteurs\n",
    "        selected_sectors = combined_scores.nlargest(top_n).index.tolist()\n",
    "        selected_sectors_history[date] = selected_sectors\n",
    "        \n",
    "        # Calcul du rendement moyen des secteurs sélectionnés pour ce mois\n",
    "        selected_returns = row[selected_sectors]\n",
    "        avg_return = selected_returns.mean()\n",
    "        \n",
    "        # Stockage du rendement de la stratégie\n",
    "        strategy_returns[date] = avg_return\n",
    "    \n",
    "    return strategy_returns, selected_sectors_history\n",
    "\n",
    "# Simulation de la stratégie combinée\n",
    "combined_returns, selected_sectors = simulate_combined_strategy(\n",
    "    monthly_returns, \n",
    "    phases_monthly['phase'], \n",
    "    momentum_dfs[6],  # Utilisation du momentum à 6 mois\n",
    "    top_n=3, \n",
    "    momentum_weight=0.5  # 50% cycle, 50% momentum\n",
    ")\n",
    "\n",
    "# Calcul des rendements cumulés\n",
    "cumulative_combined = (1 + combined_returns / 100).cumprod() - 1"
   ]
  },
  {
   "cell_type": "code",
   "execution_count": null,
   "metadata": {},
   "outputs": [],
   "source": [
    "# Visualisation comparative des stratégies\n",
    "plt.figure(figsize=(14, 8))\n",
    "plt.plot(cumulative_combined.index.to_timestamp(), cumulative_combined * 100, 'g-', linewidth=2, label='Stratégie combinée (cycle + momentum)')\n",
    "plt.plot(cumulative_strategy.index.to_timestamp(), cumulative_strategy * 100, 'b-', linewidth=2, label='Stratégie basée sur les cycles')\n",
    "plt.plot(cumulative_benchmark.index.to_timestamp(), cumulative_benchmark * 100, 'r--', linewidth=2, label='Benchmark (S&P 500)')\n",
    "\n",
    "plt.title('Comparaison des stratégies', fontsize=14)\n",
    "plt.xlabel('Date')\n",
    "plt.ylabel('Rendement cumulé (%)')\n",
    "plt.grid(True, alpha=0.3)\n",
    "plt.legend()\n",
    "plt.tight_layout()\n",
    "plt.show()"
   ]
  },
  {
   "cell_type": "code",
   "execution_count": null,
   "metadata": {},
   "outputs": [],
   "source": [
    "# Calcul des statistiques de performance pour la stratégie combinée\n",
    "performance_stats['Stratégie combinée'] = [\n",
    "    ((1 + combined_returns / 100).prod() ** (12 / len(combined_returns)) - 1) * 100,  # Rendement annualisé\n",
    "    combined_returns.std() * np.sqrt(12),  # Volatilité annualisée\n",
    "    0,  # Placeholder pour le ratio de Sharpe\n",
    "    0   # Placeholder pour le maximum drawdown\n",
    "]\n",
    "\n",
    "# Ratio de Sharpe\n",
    "performance_stats.loc['Stratégie combinée', 'Ratio de Sharpe'] = (\n",
    "    (performance_stats.loc['Stratégie combinée', 'Rendement annualisé (%)'] / 100 - risk_free_rate) / \n",
    "    (performance_stats.loc['Stratégie combinée', 'Volatilité annualisée (%)'] / 100)\n",
    ")\n",
    "\n",
    "# Maximum drawdown\n",
    "cumulative = (1 + combined_returns / 100).cumprod()\n",
    "running_max = cumulative.cummax()\n",
    "drawdown = (cumulative / running_max) - 1\n",
    "max_dd = drawdown.min() * 100\n",
    "performance_stats.loc['Stratégie combinée', 'Maximum drawdown (%)'] = max_dd\n",
    "\n",
    "performance_stats"
   ]
  },
  {
   "cell_type": "markdown",
   "metadata": {},
   "source": [
    "## Analyse du turnover (rotation des secteurs)"
   ]
  },
  {
   "cell_type": "code",
   "execution_count": null,
   "metadata": {},
   "outputs": [],
   "source": [
    "# Analyse du turnover des secteurs sélectionnés\n",
    "selected_sectors_df = pd.DataFrame.from_dict(selected_sectors, orient='index')\n",
    "selected_sectors_df.columns = [f'Secteur {i+1}' for i in range(selected_sectors_df.shape[1])]\n",
    "\n",
    "# Calcul du turnover mensuel (nombre de changements de secteurs)\n",
    "turnover = []\n",
    "for i in range(1, len(selected_sectors_df)):\n",
    "    prev_sectors = set(selected_sectors_df.iloc[i-1].values)\n",
    "    curr_sectors = set(selected_sectors_df.iloc[i].values)\n",
    "    changes = len(prev_sectors.symmetric_difference(curr_sectors)) / 2  # Division par 2 car chaque changement compte deux fois\n",
    "    turnover.append(changes)\n",
    "\n",
    "avg_turnover = np.mean(turnover)\n",
    "print(f\"Turnover mensuel moyen: {avg_turnover:.2f} secteurs sur {selected_sectors_df.shape[1]}\")\n",
    "print(f\"Pourcentage de turnover: {avg_turnover/selected_sectors_df.shape[1]*100:.2f}%\")"
   ]
  },
  {
   "cell_type": "markdown",
   "metadata": {},
   "source": [
    "## Visualisation de l'allocation sectorielle au fil du temps"
   ]
  },
  {
   "cell_type": "code",
   "execution_count": null,
   "metadata": {},
   "outputs": [],
   "source": [
    "# Création d'une matrice d'allocation (1 si le secteur est sélectionné, 0 sinon)\n",
    "allocation_matrix = pd.DataFrame(index=selected_sectors_df.index, columns=available_sectors)\n",
    "allocation_matrix = allocation_matrix.fillna(0)\n",
    "\n",
    "for date, row in selected_sectors_df.iterrows():\n",
    "    for sector in row.values:\n",
    "        if sector in available_sectors:  # Vérification si le secteur est dans la liste\n",
    "            allocation_matrix.loc[date, sector] = 1\n",
    "\n",
    "# Visualisation de l'allocation sectorielle\n",
    "plt.figure(figsize=(14, 8))\n",
    "plt.imshow(allocation_matrix.T, aspect='auto', cmap='Blues', interpolation='none')\n",
    "\n",
    "# Configuration des axes\n",
    "plt.yticks(np.arange(len(available_sectors)), [f\"{s} ({sector_etfs[s]})\" for s in available_sectors])\n",
    "plt.xticks(np.arange(0, len(allocation_matrix), 12), [date.strftime('%Y-%m') for date in allocation_matrix.index[::12]], rotation=90)\n",
    "\n",
    "plt.title('Allocation sectorielle au fil du temps', fontsize=14)\n",
    "plt.colorbar(label='Allocation')\n",
    "plt.tight_layout()\n",
    "plt.show()"
   ]
  },
  {
   "cell_type": "markdown",
   "metadata": {},
   "source": [
    "## Conclusion"
   ]
  },
  {
   "cell_type": "markdown",
   "metadata": {},
   "source": [
    "Dans cette analyse exploratoire des performances sectorielles, nous avons constaté que:\n",
    "\n",
    "1. Les différents secteurs du marché ont des performances qui varient considérablement selon les phases du cycle économique.\n",
    "2. Certains secteurs comme la Technologie (XLK) et la Consommation discrétionnaire (XLY) surperforment durant les phases d'Expansion et de Reprise.\n",
    "3. Les secteurs défensifs comme les Services publics (XLU) et la Consommation de base (XLP) surperforment durant les phases de Ralentissement et de Récession.\n",
    "4. Une stratégie de rotation sectorielle basée sur les phases du cycle économique et le momentum peut potentiellement surperformer le marché général.\n",
    "5. La combinaison de l'analyse des cycles économiques et du momentum sectoriel semble être une approche prometteuse pour optimiser les rendements ajustés au risque.\n",
    "\n",
    "Ces résultats confirment l'intérêt de développer une stratégie de rotation sectorielle dynamique basée sur l'identification des cycles économiques et l'analyse du momentum sectoriel."
   ]
  },
  {
   "cell_type": "code",
   "execution_count": null,
   "metadata": {},
   "outputs": [],
   "source": [
    "# Sauvegarde des secteurs recommandés par phase pour utilisation dans d'autres notebooks\n",
    "recommendations_path = os.path.join(project_root, \"data\", \"processed\", \"sector_recommendations.csv\")\n",
    "recommendations.to_csv(recommendations_path)\n",
    "print(f\"Recommandations sectorielles sauvegardées dans {recommendations_path}\")\n",
    "\n",
    "# Sauvegarde des performances des stratégies\n",
    "performance_path = os.path.join(project_root, \"data\", \"processed\", \"strategy_performance.csv\")\n",
    "performance_stats.to_csv(performance_path)\n",
    "print(f\"Performances des stratégies sauvegardées dans {performance_path}\")"
   ]
  }
 ],
 "metadata": {
  "kernelspec": {
   "display_name": "Python 3",
   "language": "python",
   "name": "python3"
  },
  "language_info": {
   "codemirror_mode": {
    "name": "ipython",
    "version": 3
   },
   "file_extension": ".py",
   "mimetype": "text/x-python",
   "name": "python",
   "nbconvert_exporter": "python",
   "pygments_lexer": "ipython3",
   "version": "3.8.10"
  }
 },
 "nbformat": 4,
 "nbformat_minor": 4
}